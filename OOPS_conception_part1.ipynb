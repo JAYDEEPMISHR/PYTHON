{
  "nbformat": 4,
  "nbformat_minor": 0,
  "metadata": {
    "colab": {
      "provenance": [],
      "authorship_tag": "ABX9TyO+nYsmcvDFVvctHxgib/Gm",
      "include_colab_link": true
    },
    "kernelspec": {
      "name": "python3",
      "display_name": "Python 3"
    },
    "language_info": {
      "name": "python"
    }
  },
  "cells": [
    {
      "cell_type": "markdown",
      "metadata": {
        "id": "view-in-github",
        "colab_type": "text"
      },
      "source": [
        "<a href=\"https://colab.research.google.com/github/JAYDEEPMISHR/PYTHON/blob/main/OOPS_conception_part1.ipynb\" target=\"_parent\"><img src=\"https://colab.research.google.com/assets/colab-badge.svg\" alt=\"Open In Colab\"/></a>"
      ]
    },
    {
      "cell_type": "markdown",
      "source": [
        "OOPS concept\n",
        "\n",
        "1. Class\n",
        "2. Object\n",
        "3. Inheritance\n",
        "4. Polimorphism\n",
        "5. Encapsulation"
      ],
      "metadata": {
        "id": "EfHYaG4c3Big"
      }
    },
    {
      "cell_type": "markdown",
      "source": [
        "1. Class:\n",
        "\n",
        "class is defined by 'class' keyword in the python."
      ],
      "metadata": {
        "id": "TR3V7O6H3L35"
      }
    },
    {
      "cell_type": "code",
      "execution_count": 3,
      "metadata": {
        "colab": {
          "base_uri": "https://localhost:8080/"
        },
        "id": "c5SBxGKV1PAq",
        "outputId": "391ef002-2c22-4c57-e9d9-828246856b1d"
      },
      "outputs": [
        {
          "output_type": "stream",
          "name": "stdout",
          "text": [
            "Length =  10  and Breagth =  5\n"
          ]
        }
      ],
      "source": [
        "class Rectangle:\n",
        "  # __init__ is a construtor.\n",
        "  def __init__(self):\n",
        "    self.length = 10\n",
        "    self.breagth = 5\n",
        "\n",
        "# Make an object of this class to use this class\n",
        "\n",
        "rect_obj = Rectangle() # Here rect_obj is an object of that class\n",
        "print(\"Length = \", rect_obj.length ,\" and Breagth = \", rect_obj.breagth)"
      ]
    },
    {
      "cell_type": "markdown",
      "source": [
        "# Parameterised constructor : Dynamically assign the value during object creation"
      ],
      "metadata": {
        "id": "52L26ruk5kBf"
      }
    },
    {
      "cell_type": "code",
      "source": [
        "class Rectangle:\n",
        "  # __init__ is a construtor.\n",
        "  def __init__(self,length,breadgth):\n",
        "    self.length = length\n",
        "    self.breagth = breadgth\n",
        "\n",
        "rect_obj = Rectangle(10,5) # Here rect_obj is an object of that class\n",
        "print(\"Length = \", rect_obj.length ,\" and Breagth = \", rect_obj.breagth)"
      ],
      "metadata": {
        "colab": {
          "base_uri": "https://localhost:8080/"
        },
        "id": "wM1zyRT75iRC",
        "outputId": "c32546a8-a934-4bfe-d270-c811e5baabb3"
      },
      "execution_count": 4,
      "outputs": [
        {
          "output_type": "stream",
          "name": "stdout",
          "text": [
            "Length =  10  and Breagth =  5\n"
          ]
        }
      ]
    },
    {
      "cell_type": "markdown",
      "source": [
        "# Adding a method to class"
      ],
      "metadata": {
        "id": "bmejLS953AYF"
      }
    },
    {
      "cell_type": "code",
      "source": [
        "class Rectangle:\n",
        "  # __init__ is a construtor.\n",
        "  def __init__(self,length,breadgth):\n",
        "    self.length = length\n",
        "    self.breagth = breadgth\n",
        "\n",
        "  def area(self):\n",
        "    return self.length * self.breagth\n",
        "\n",
        "  def perimeter(self):\n",
        "    return 2 * (self.length + self.breagth)\n",
        "\n",
        "rect_obj = Rectangle(10,5)\n",
        "print(\"Area = \", rect_obj.area())\n",
        "print(\"Perimeter = \", rect_obj.perimeter())\n"
      ],
      "metadata": {
        "colab": {
          "base_uri": "https://localhost:8080/"
        },
        "id": "f-V4tJuL6-Ni",
        "outputId": "54912d6e-d5c6-4115-9d07-d189ef1a2d69"
      },
      "execution_count": 5,
      "outputs": [
        {
          "output_type": "stream",
          "name": "stdout",
          "text": [
            "Area =  50\n",
            "Perimeter =  30\n"
          ]
        }
      ]
    }
  ]
}