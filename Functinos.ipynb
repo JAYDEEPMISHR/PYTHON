{
  "nbformat": 4,
  "nbformat_minor": 0,
  "metadata": {
    "colab": {
      "provenance": [],
      "authorship_tag": "ABX9TyM3QyPMaaOINoViq+oyDbGZ",
      "include_colab_link": true
    },
    "kernelspec": {
      "name": "python3",
      "display_name": "Python 3"
    },
    "language_info": {
      "name": "python"
    }
  },
  "cells": [
    {
      "cell_type": "markdown",
      "metadata": {
        "id": "view-in-github",
        "colab_type": "text"
      },
      "source": [
        "<a href=\"https://colab.research.google.com/github/JAYDEEPMISHR/PYTHON/blob/main/Functinos.ipynb\" target=\"_parent\"><img src=\"https://colab.research.google.com/assets/colab-badge.svg\" alt=\"Open In Colab\"/></a>"
      ]
    },
    {
      "cell_type": "markdown",
      "source": [
        "Even and Odd usign function"
      ],
      "metadata": {
        "id": "oh9747CRGEMC"
      }
    },
    {
      "cell_type": "code",
      "execution_count": 2,
      "metadata": {
        "colab": {
          "base_uri": "https://localhost:8080/"
        },
        "id": "YoTS5eiBFnUd",
        "outputId": "87915883-7f22-4468-8d6e-088398280038"
      },
      "outputs": [
        {
          "output_type": "stream",
          "name": "stdout",
          "text": [
            "Please give one number: 25000\n",
            "25000 is even number\n",
            "None\n"
          ]
        }
      ],
      "source": [
        "def oddeven(a):\n",
        "  if a%2 == 0:\n",
        "    print(f\"{a} is even number\")\n",
        "  else:\n",
        "    print(f\"{a} is odd number\")\n",
        "\n",
        "number = int(input(\"Please give one number: \"))\n",
        "print(oddeven(number))"
      ]
    },
    {
      "cell_type": "markdown",
      "source": [
        "Fatorail Function"
      ],
      "metadata": {
        "id": "b8kyiQyeOHLA"
      }
    },
    {
      "cell_type": "code",
      "source": [
        "def fact_num(n):\n",
        "  fact = 1\n",
        "  for i in range(1, n+1):\n",
        "    fact = fact * i\n",
        "  return fact\n",
        "\n",
        "number = int(input(\"Please give one number: \"))\n",
        "print(f\"Factorial of {number} is {fact_num(number)}\")"
      ],
      "metadata": {
        "colab": {
          "base_uri": "https://localhost:8080/"
        },
        "id": "tiQwfctyOJNt",
        "outputId": "1e52ae51-1b81-47a0-9773-c7218e840581"
      },
      "execution_count": 4,
      "outputs": [
        {
          "output_type": "stream",
          "name": "stdout",
          "text": [
            "Please give one number: 3\n",
            "Factorial of 3 is 6\n"
          ]
        }
      ]
    },
    {
      "cell_type": "markdown",
      "source": [
        "Sum of all natural number"
      ],
      "metadata": {
        "id": "ZyBJ8nyLOtSv"
      }
    },
    {
      "cell_type": "code",
      "source": [
        "def sum_of_all_natural_number(n):\n",
        "  num = n *(n+1)/2\n",
        "  return int(num)\n",
        "\n",
        "number = int(input(\"Please give one number: \"))\n",
        "print(f\"Sum of all natural number is {sum_of_all_natural_number(number)}\")"
      ],
      "metadata": {
        "colab": {
          "base_uri": "https://localhost:8080/"
        },
        "id": "h0PLkrRcOvuf",
        "outputId": "3e887374-a920-4ffd-b03a-a07f37cb235c"
      },
      "execution_count": 7,
      "outputs": [
        {
          "output_type": "stream",
          "name": "stdout",
          "text": [
            "Please give one number: 4\n",
            "Sum of all natural number is 10\n"
          ]
        }
      ]
    },
    {
      "cell_type": "markdown",
      "source": [
        "Create a lambda function that adds 10 to the argument and give the answer\n",
        "\n",
        "syntax : lambda argument:expression"
      ],
      "metadata": {
        "id": "2PVQeL9zP4HQ"
      }
    },
    {
      "cell_type": "code",
      "source": [
        "x = lambda a: a + 10\n",
        "print(x(2))"
      ],
      "metadata": {
        "colab": {
          "base_uri": "https://localhost:8080/"
        },
        "id": "2NpnA8LzQMJS",
        "outputId": "e5322fc2-786c-4809-b15c-14d0aed5e36e"
      },
      "execution_count": 10,
      "outputs": [
        {
          "output_type": "stream",
          "name": "stdout",
          "text": [
            "12\n"
          ]
        }
      ]
    },
    {
      "cell_type": "markdown",
      "source": [
        "Create a lambda function which gives the output if the number is even or odd?"
      ],
      "metadata": {
        "id": "giuQO_7xRHFF"
      }
    },
    {
      "cell_type": "code",
      "source": [
        "x = lambda a : \"even\" if a%2 == 0 else \"odd\"\n",
        "print(x(15))"
      ],
      "metadata": {
        "colab": {
          "base_uri": "https://localhost:8080/"
        },
        "id": "zSSPK1piRPa3",
        "outputId": "24f3f6ab-39d1-40b1-a7b1-08b565207e5e"
      },
      "execution_count": 12,
      "outputs": [
        {
          "output_type": "stream",
          "name": "stdout",
          "text": [
            "odd\n"
          ]
        }
      ]
    },
    {
      "cell_type": "markdown",
      "source": [
        "Create a lambda function to add two int number"
      ],
      "metadata": {
        "id": "j-iKKuSiRsLt"
      }
    },
    {
      "cell_type": "code",
      "source": [
        "x = lambda a, b : a + b\n",
        "print(x(3,4))"
      ],
      "metadata": {
        "colab": {
          "base_uri": "https://localhost:8080/"
        },
        "id": "EINv722cRxuN",
        "outputId": "d80a91c2-cdb0-4cdd-d9b9-12763d69abfa"
      },
      "execution_count": 15,
      "outputs": [
        {
          "output_type": "stream",
          "name": "stdout",
          "text": [
            "-7\n"
          ]
        }
      ]
    }
  ]
}