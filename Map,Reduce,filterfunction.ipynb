{
  "nbformat": 4,
  "nbformat_minor": 0,
  "metadata": {
    "colab": {
      "provenance": [],
      "authorship_tag": "ABX9TyNoKAuVFu7LxJuZlq4OP60H",
      "include_colab_link": true
    },
    "kernelspec": {
      "name": "python3",
      "display_name": "Python 3"
    },
    "language_info": {
      "name": "python"
    }
  },
  "cells": [
    {
      "cell_type": "markdown",
      "metadata": {
        "id": "view-in-github",
        "colab_type": "text"
      },
      "source": [
        "<a href=\"https://colab.research.google.com/github/JAYDEEPMISHR/PYTHON/blob/main/Map%2CReduce%2Cfilterfunction.ipynb\" target=\"_parent\"><img src=\"https://colab.research.google.com/assets/colab-badge.svg\" alt=\"Open In Colab\"/></a>"
      ]
    },
    {
      "cell_type": "markdown",
      "source": [
        "Definition : It is a utility function- maps a collection to another collection object based on certain functionality.\n",
        "\n",
        "Syntax of Map function : map(function, iterabla object)"
      ],
      "metadata": {
        "id": "aUAjPjhPUhfN"
      }
    },
    {
      "cell_type": "code",
      "execution_count": null,
      "metadata": {
        "colab": {
          "base_uri": "https://localhost:8080/"
        },
        "id": "Fv-KirbIUaFK",
        "outputId": "828b8c53-c8f6-4a4a-f313-d20dfd2d7094"
      },
      "outputs": [
        {
          "output_type": "execute_result",
          "data": {
            "text/plain": [
              "['ALICE', 'BOB', 'CARRY', 'DHAVAN']"
            ]
          },
          "metadata": {},
          "execution_count": 2
        }
      ],
      "source": [
        "firstname = [\"Alice\",\"bob\",\"carry\",\"dhavan\"]\n",
        "list(map(lambda x : x.upper(),firstname))"
      ]
    },
    {
      "cell_type": "markdown",
      "source": [
        "Filter : It is similar but it requires the function to look a condition and return those elements from the collection that satisfy the condition"
      ],
      "metadata": {
        "id": "bbrNmFISVyV1"
      }
    },
    {
      "cell_type": "markdown",
      "source": [
        "Reduce : An operation that breaks down the entire process into pairwise operations and uses the result from each operations, with the successive element."
      ],
      "metadata": {
        "id": "rYLCAkF0WKf7"
      }
    },
    {
      "cell_type": "markdown",
      "source": [
        "Map, Reduce and Filter **bold text**"
      ],
      "metadata": {
        "id": "C5z1G2lcWt3K"
      }
    },
    {
      "cell_type": "markdown",
      "source": [
        "1. Area of circle"
      ],
      "metadata": {
        "id": "n80O1wENWz09"
      }
    },
    {
      "cell_type": "code",
      "source": [
        "import math\n",
        "\n",
        "def area(r):\n",
        "  return math.pi * (r**2)\n",
        "\n",
        "radii = [2,5,7.0,0.3,10]\n",
        "\n",
        "areas = []\n",
        "for r in radii:\n",
        "  a = area(r)\n",
        "  areas.append(a)\n",
        "\n",
        "print(areas)"
      ],
      "metadata": {
        "id": "dG-Gt8l2WxcG",
        "colab": {
          "base_uri": "https://localhost:8080/"
        },
        "outputId": "a20957fe-70e0-4395-fddd-9c73b52f990b"
      },
      "execution_count": null,
      "outputs": [
        {
          "output_type": "stream",
          "name": "stdout",
          "text": [
            "[12.566370614359172, 78.53981633974483, 153.93804002589985, 0.2827433388230814, 314.1592653589793]\n"
          ]
        }
      ]
    },
    {
      "cell_type": "markdown",
      "source": [
        "Area of circle using map function"
      ],
      "metadata": {
        "id": "nlBx_X7TVnVg"
      }
    },
    {
      "cell_type": "code",
      "source": [
        "import math\n",
        "radii = [2,5,7.0,0.3,10]\n",
        "list(map(lambda a : math.pi * (a**2), radii))"
      ],
      "metadata": {
        "colab": {
          "base_uri": "https://localhost:8080/"
        },
        "id": "5OWxdnllVsIa",
        "outputId": "98b17adf-67c3-458a-98bb-aacd13180e61"
      },
      "execution_count": null,
      "outputs": [
        {
          "output_type": "execute_result",
          "data": {
            "text/plain": [
              "[12.566370614359172,\n",
              " 78.53981633974483,\n",
              " 153.93804002589985,\n",
              " 0.2827433388230814,\n",
              " 314.1592653589793]"
            ]
          },
          "metadata": {},
          "execution_count": 2
        }
      ]
    },
    {
      "cell_type": "markdown",
      "source": [
        "Convert Celcius to ferenheit\n",
        "\n",
        "f = 9/5*c + 32"
      ],
      "metadata": {
        "id": "0rL1mbigX4Le"
      }
    },
    {
      "cell_type": "code",
      "source": [
        "list1 = [('Mumbai',32),('Ahmedabad',45),('Rajkot',42),('Delhi',40)]\n",
        "cel_to_fer = lambda data : (data[0], (9/5)*data[1]+32)\n",
        "list(map(cel_to_fer,list1))"
      ],
      "metadata": {
        "colab": {
          "base_uri": "https://localhost:8080/"
        },
        "id": "hYjYF_ngX8sU",
        "outputId": "c8fdf5b6-5997-4ecf-8450-2f5b0a8d2e18"
      },
      "execution_count": null,
      "outputs": [
        {
          "output_type": "execute_result",
          "data": {
            "text/plain": [
              "[('Mumbai', 89.6),\n",
              " ('Ahmedabad', 113.0),\n",
              " ('Rajkot', 107.60000000000001),\n",
              " ('Delhi', 104.0)]"
            ]
          },
          "metadata": {},
          "execution_count": 3
        }
      ]
    },
    {
      "cell_type": "markdown",
      "source": [
        "Filter function :\n",
        "syntax :- filter(function, data)"
      ],
      "metadata": {
        "id": "HPFnlW30Y6eq"
      }
    },
    {
      "cell_type": "code",
      "source": [
        "import statistics\n",
        "data = [1.3,2.7,0.8,4.1,4.3,-0.1]\n",
        "avg = statistics.mean(data)\n",
        "print(avg)\n",
        "list(filter(lambda x : x > avg, data))"
      ],
      "metadata": {
        "colab": {
          "base_uri": "https://localhost:8080/"
        },
        "id": "393qt0CRZa5n",
        "outputId": "5a31f078-1a32-4a98-9e2a-568263638d70"
      },
      "execution_count": null,
      "outputs": [
        {
          "output_type": "stream",
          "name": "stdout",
          "text": [
            "2.183333333333333\n"
          ]
        },
        {
          "output_type": "execute_result",
          "data": {
            "text/plain": [
              "[2.7, 4.1, 4.3]"
            ]
          },
          "metadata": {},
          "execution_count": 4
        }
      ]
    }
  ]
}