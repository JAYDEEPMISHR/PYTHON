{
  "nbformat": 4,
  "nbformat_minor": 0,
  "metadata": {
    "colab": {
      "provenance": [],
      "authorship_tag": "ABX9TyOQiKyeGwZ0fqgzKvsa3jR7",
      "include_colab_link": true
    },
    "kernelspec": {
      "name": "python3",
      "display_name": "Python 3"
    },
    "language_info": {
      "name": "python"
    }
  },
  "cells": [
    {
      "cell_type": "markdown",
      "metadata": {
        "id": "view-in-github",
        "colab_type": "text"
      },
      "source": [
        "<a href=\"https://colab.research.google.com/github/JAYDEEPMISHR/PYTHON/blob/main/Pandas.ipynb\" target=\"_parent\"><img src=\"https://colab.research.google.com/assets/colab-badge.svg\" alt=\"Open In Colab\"/></a>"
      ]
    },
    {
      "cell_type": "code",
      "execution_count": 2,
      "metadata": {
        "id": "XHTdsSHkiu0_"
      },
      "outputs": [],
      "source": [
        "import pandas as pd\n",
        "import numpy as np"
      ]
    },
    {
      "cell_type": "code",
      "source": [
        "df = pd.read_excel(r'sample_data/SalaryData.xlsx')\n",
        "print(df)"
      ],
      "metadata": {
        "colab": {
          "base_uri": "https://localhost:8080/"
        },
        "id": "FQU7BRC_jKHD",
        "outputId": "b32f0c15-4aaf-4098-f454-54cd59d406ba"
      },
      "execution_count": 5,
      "outputs": [
        {
          "output_type": "stream",
          "name": "stdout",
          "text": [
            "     NAME  EMPID  SALARY Month\n",
            "0     ABC      1   10000   Jan\n",
            "1     XYZ      2   10000   Jan\n",
            "2     PQR      3   10000   Jan\n",
            "3     STU      4   10000   Jan\n",
            "4    DSDS      5   10000   Jan\n",
            "5    CVSD      6   10000   Jan\n",
            "6    DCSD      7   10000   Jan\n",
            "7     DCX      8   10000   Jan\n",
            "8   DSCSD      9   10000   Jan\n",
            "9   SDCXC     10   10000   Jan\n",
            "10    C X     11   10000   Jan\n",
            "11    SFS     12   10000   Jan\n",
            "12     GD     13   10000   Jan\n",
            "13    GDX     14   10000   Jan\n",
            "14     SG     15   10000   Jan\n",
            "15      F     16   10000   Jan\n",
            "16  hskjh     17   10000   Jan\n"
          ]
        }
      ]
    },
    {
      "cell_type": "code",
      "source": [
        "print(df.head()) # Gives the first data(default Five record from the database)"
      ],
      "metadata": {
        "colab": {
          "base_uri": "https://localhost:8080/"
        },
        "id": "EuwSyEFBjZtT",
        "outputId": "2ad8e931-c9bc-4455-e49b-74d815d42e29"
      },
      "execution_count": 6,
      "outputs": [
        {
          "output_type": "stream",
          "name": "stdout",
          "text": [
            "   NAME  EMPID  SALARY Month\n",
            "0   ABC      1   10000   Jan\n",
            "1   XYZ      2   10000   Jan\n",
            "2   PQR      3   10000   Jan\n",
            "3   STU      4   10000   Jan\n",
            "4  DSDS      5   10000   Jan\n"
          ]
        }
      ]
    },
    {
      "cell_type": "code",
      "source": [
        "print(df.head(7)) # If you want to see 7 records from the data"
      ],
      "metadata": {
        "colab": {
          "base_uri": "https://localhost:8080/"
        },
        "id": "aOVRzNcbjnXO",
        "outputId": "fc8d6f6c-6d3c-424a-c062-89f5526eee2b"
      },
      "execution_count": 9,
      "outputs": [
        {
          "output_type": "stream",
          "name": "stdout",
          "text": [
            "   NAME  EMPID  SALARY Month\n",
            "0   ABC      1   10000   Jan\n",
            "1   XYZ      2   10000   Jan\n",
            "2   PQR      3   10000   Jan\n",
            "3   STU      4   10000   Jan\n",
            "4  DSDS      5   10000   Jan\n",
            "5  CVSD      6   10000   Jan\n",
            "6  DCSD      7   10000   Jan\n"
          ]
        }
      ]
    },
    {
      "cell_type": "code",
      "source": [
        "print(df.tail()) # Gives the last five record (bydefault) from the database"
      ],
      "metadata": {
        "colab": {
          "base_uri": "https://localhost:8080/"
        },
        "id": "e7GamDxPjwS1",
        "outputId": "9b0dc054-4810-4cb2-f214-4b22701af451"
      },
      "execution_count": 10,
      "outputs": [
        {
          "output_type": "stream",
          "name": "stdout",
          "text": [
            "     NAME  EMPID  SALARY Month\n",
            "12     GD     13   10000   Jan\n",
            "13    GDX     14   10000   Jan\n",
            "14     SG     15   10000   Jan\n",
            "15      F     16   10000   Jan\n",
            "16  hskjh     17   10000   Jan\n"
          ]
        }
      ]
    },
    {
      "cell_type": "code",
      "source": [
        "print(df.tail(1))"
      ],
      "metadata": {
        "colab": {
          "base_uri": "https://localhost:8080/"
        },
        "id": "XvdnqOBBj4QL",
        "outputId": "7c37c5b1-ac0e-4820-d6e4-11dc9d817fb0"
      },
      "execution_count": 11,
      "outputs": [
        {
          "output_type": "stream",
          "name": "stdout",
          "text": [
            "     NAME  EMPID  SALARY Month\n",
            "16  hskjh     17   10000   Jan\n"
          ]
        }
      ]
    },
    {
      "cell_type": "code",
      "source": [
        "print(df.info()) # If you want to get the information about the database"
      ],
      "metadata": {
        "colab": {
          "base_uri": "https://localhost:8080/"
        },
        "id": "siLtHF73kA_S",
        "outputId": "81f624d1-cdff-47a3-95aa-f0c68838d4d8"
      },
      "execution_count": 12,
      "outputs": [
        {
          "output_type": "stream",
          "name": "stdout",
          "text": [
            "<class 'pandas.core.frame.DataFrame'>\n",
            "RangeIndex: 17 entries, 0 to 16\n",
            "Data columns (total 4 columns):\n",
            " #   Column  Non-Null Count  Dtype \n",
            "---  ------  --------------  ----- \n",
            " 0   NAME    17 non-null     object\n",
            " 1   EMPID   17 non-null     int64 \n",
            " 2   SALARY  17 non-null     int64 \n",
            " 3   Month   17 non-null     object\n",
            "dtypes: int64(2), object(2)\n",
            "memory usage: 676.0+ bytes\n",
            "None\n"
          ]
        }
      ]
    },
    {
      "cell_type": "code",
      "source": [
        "# Describe the statistical information of the numerical coloums (Gives only numerical coloums)\n",
        "print(df.describe())"
      ],
      "metadata": {
        "colab": {
          "base_uri": "https://localhost:8080/"
        },
        "id": "lf_bZug9koL2",
        "outputId": "7681db0a-8803-4146-81ea-633254c062a9"
      },
      "execution_count": 13,
      "outputs": [
        {
          "output_type": "stream",
          "name": "stdout",
          "text": [
            "           EMPID   SALARY\n",
            "count  17.000000     17.0\n",
            "mean    9.000000  10000.0\n",
            "std     5.049752      0.0\n",
            "min     1.000000  10000.0\n",
            "25%     5.000000  10000.0\n",
            "50%     9.000000  10000.0\n",
            "75%    13.000000  10000.0\n",
            "max    17.000000  10000.0\n"
          ]
        }
      ]
    },
    {
      "cell_type": "code",
      "source": [
        "# To get all the coloums\n",
        "print(df.columns)"
      ],
      "metadata": {
        "colab": {
          "base_uri": "https://localhost:8080/"
        },
        "id": "sztLLlvYl-X5",
        "outputId": "0e7f31bd-22a2-4864-dcac-028cf1d106c9"
      },
      "execution_count": 14,
      "outputs": [
        {
          "output_type": "stream",
          "name": "stdout",
          "text": [
            "Index(['NAME', 'EMPID', 'SALARY', 'Month'], dtype='object')\n"
          ]
        }
      ]
    },
    {
      "cell_type": "code",
      "source": [
        "# Do the transpose of the dataframe\n",
        "print(df.T)"
      ],
      "metadata": {
        "id": "dr4Pdf1CmVC7",
        "outputId": "6e0fc245-eb69-442b-c20d-aefa4535ff64",
        "colab": {
          "base_uri": "https://localhost:8080/"
        }
      },
      "execution_count": 15,
      "outputs": [
        {
          "output_type": "stream",
          "name": "stdout",
          "text": [
            "           0      1      2      3      4      5      6      7      8      9   \\\n",
            "NAME      ABC    XYZ    PQR    STU   DSDS   CVSD   DCSD    DCX  DSCSD  SDCXC   \n",
            "EMPID       1      2      3      4      5      6      7      8      9     10   \n",
            "SALARY  10000  10000  10000  10000  10000  10000  10000  10000  10000  10000   \n",
            "Month     Jan    Jan    Jan    Jan    Jan    Jan    Jan    Jan    Jan    Jan   \n",
            "\n",
            "           10     11     12     13     14     15     16  \n",
            "NAME      C X    SFS     GD    GDX     SG      F  hskjh  \n",
            "EMPID      11     12     13     14     15     16     17  \n",
            "SALARY  10000  10000  10000  10000  10000  10000  10000  \n",
            "Month     Jan    Jan    Jan    Jan    Jan    Jan    Jan  \n"
          ]
        }
      ]
    },
    {
      "cell_type": "code",
      "source": [
        "# Sort a values according to coloums\n",
        "print(df.sort_values('NAME'))"
      ],
      "metadata": {
        "colab": {
          "base_uri": "https://localhost:8080/"
        },
        "id": "gkkCXzBkq935",
        "outputId": "522861e0-84dd-451d-b014-304c2a51612d"
      },
      "execution_count": 20,
      "outputs": [
        {
          "output_type": "stream",
          "name": "stdout",
          "text": [
            "     NAME  EMPID  SALARY Month\n",
            "0     ABC      1   10000   Jan\n",
            "10    C X     11   10000   Jan\n",
            "5    CVSD      6   10000   Jan\n",
            "6    DCSD      7   10000   Jan\n",
            "7     DCX      8   10000   Jan\n",
            "8   DSCSD      9   10000   Jan\n",
            "4    DSDS      5   10000   Jan\n",
            "15      F     16   10000   Jan\n",
            "12     GD     13   10000   Jan\n",
            "13    GDX     14   10000   Jan\n",
            "2     PQR      3   10000   Jan\n",
            "9   SDCXC     10   10000   Jan\n",
            "11    SFS     12   10000   Jan\n",
            "14     SG     15   10000   Jan\n",
            "3     STU      4   10000   Jan\n",
            "1     XYZ      2   10000   Jan\n",
            "16  hskjh     17   10000   Jan\n"
          ]
        }
      ]
    },
    {
      "cell_type": "code",
      "source": [
        "# If we want to print perticular coloum\n",
        "print(df['NAME']) # or print(df.NAME) but this only wokrs when the coloum name is not having some blank space in the spelling\n"
      ],
      "metadata": {
        "colab": {
          "base_uri": "https://localhost:8080/"
        },
        "id": "xMk325TFsLmT",
        "outputId": "44303a0b-5dae-4c5c-e782-c6b5a710c7a9"
      },
      "execution_count": 22,
      "outputs": [
        {
          "output_type": "stream",
          "name": "stdout",
          "text": [
            "0       ABC\n",
            "1       XYZ\n",
            "2       PQR\n",
            "3       STU\n",
            "4      DSDS\n",
            "5      CVSD\n",
            "6      DCSD\n",
            "7       DCX\n",
            "8     DSCSD\n",
            "9     SDCXC\n",
            "10      C X\n",
            "11      SFS\n",
            "12       GD\n",
            "13      GDX\n",
            "14       SG\n",
            "15        F\n",
            "16    hskjh\n",
            "Name: NAME, dtype: object\n"
          ]
        }
      ]
    },
    {
      "cell_type": "code",
      "source": [
        "# If we want to add new coloum than also we can add\n",
        "df['Stipend'] = 1000\n"
      ],
      "metadata": {
        "id": "Gm7B0pv6sSPk"
      },
      "execution_count": 23,
      "outputs": []
    },
    {
      "cell_type": "code",
      "source": [
        "print(df.head(2)) # stipend is added as a new coloum"
      ],
      "metadata": {
        "colab": {
          "base_uri": "https://localhost:8080/"
        },
        "id": "pvRE7Rpys-Ka",
        "outputId": "0338f19c-6007-4672-a49c-fc96643f486f"
      },
      "execution_count": 24,
      "outputs": [
        {
          "output_type": "stream",
          "name": "stdout",
          "text": [
            "  NAME  EMPID  SALARY Month  Stipend\n",
            "0  ABC      1   10000   Jan     1000\n",
            "1  XYZ      2   10000   Jan     1000\n"
          ]
        }
      ]
    },
    {
      "cell_type": "code",
      "source": [
        "df['NEW SALARY'] = df['SALARY'] + df['Stipend']\n",
        "print(df['NEW SALARY'])"
      ],
      "metadata": {
        "colab": {
          "base_uri": "https://localhost:8080/"
        },
        "id": "7-NUOIAItFpl",
        "outputId": "73d506d4-b862-419f-d93b-c23fdc03d6bb"
      },
      "execution_count": 25,
      "outputs": [
        {
          "output_type": "stream",
          "name": "stdout",
          "text": [
            "0     11000\n",
            "1     11000\n",
            "2     11000\n",
            "3     11000\n",
            "4     11000\n",
            "5     11000\n",
            "6     11000\n",
            "7     11000\n",
            "8     11000\n",
            "9     11000\n",
            "10    11000\n",
            "11    11000\n",
            "12    11000\n",
            "13    11000\n",
            "14    11000\n",
            "15    11000\n",
            "16    11000\n",
            "Name: NEW SALARY, dtype: int64\n"
          ]
        }
      ]
    },
    {
      "cell_type": "code",
      "source": [
        "print(df.head(2))"
      ],
      "metadata": {
        "colab": {
          "base_uri": "https://localhost:8080/"
        },
        "id": "x2ZN39IutPyA",
        "outputId": "0f526162-ce97-416f-8742-2f49489294ea"
      },
      "execution_count": 26,
      "outputs": [
        {
          "output_type": "stream",
          "name": "stdout",
          "text": [
            "  NAME  EMPID  SALARY Month  Stipend  NEW SALARY\n",
            "0  ABC      1   10000   Jan     1000       11000\n",
            "1  XYZ      2   10000   Jan     1000       11000\n"
          ]
        }
      ]
    },
    {
      "cell_type": "code",
      "source": [
        "df[3,5] # Accessing rows through dataframe (Wrong Syntax)"
      ],
      "metadata": {
        "colab": {
          "base_uri": "https://localhost:8080/",
          "height": 547
        },
        "id": "6RckDJwAtg8t",
        "outputId": "676121c2-8dd1-441c-b650-4a260b5f98fd"
      },
      "execution_count": 28,
      "outputs": [
        {
          "output_type": "error",
          "ename": "KeyError",
          "evalue": "(3, 5)",
          "traceback": [
            "\u001b[0;31m---------------------------------------------------------------------------\u001b[0m",
            "\u001b[0;31mKeyError\u001b[0m                                  Traceback (most recent call last)",
            "\u001b[0;32m/usr/local/lib/python3.11/dist-packages/pandas/core/indexes/base.py\u001b[0m in \u001b[0;36mget_loc\u001b[0;34m(self, key)\u001b[0m\n\u001b[1;32m   3804\u001b[0m         \u001b[0;32mtry\u001b[0m\u001b[0;34m:\u001b[0m\u001b[0;34m\u001b[0m\u001b[0;34m\u001b[0m\u001b[0m\n\u001b[0;32m-> 3805\u001b[0;31m             \u001b[0;32mreturn\u001b[0m \u001b[0mself\u001b[0m\u001b[0;34m.\u001b[0m\u001b[0m_engine\u001b[0m\u001b[0;34m.\u001b[0m\u001b[0mget_loc\u001b[0m\u001b[0;34m(\u001b[0m\u001b[0mcasted_key\u001b[0m\u001b[0;34m)\u001b[0m\u001b[0;34m\u001b[0m\u001b[0;34m\u001b[0m\u001b[0m\n\u001b[0m\u001b[1;32m   3806\u001b[0m         \u001b[0;32mexcept\u001b[0m \u001b[0mKeyError\u001b[0m \u001b[0;32mas\u001b[0m \u001b[0merr\u001b[0m\u001b[0;34m:\u001b[0m\u001b[0;34m\u001b[0m\u001b[0;34m\u001b[0m\u001b[0m\n",
            "\u001b[0;32mindex.pyx\u001b[0m in \u001b[0;36mpandas._libs.index.IndexEngine.get_loc\u001b[0;34m()\u001b[0m\n",
            "\u001b[0;32mindex.pyx\u001b[0m in \u001b[0;36mpandas._libs.index.IndexEngine.get_loc\u001b[0;34m()\u001b[0m\n",
            "\u001b[0;32mpandas/_libs/hashtable_class_helper.pxi\u001b[0m in \u001b[0;36mpandas._libs.hashtable.PyObjectHashTable.get_item\u001b[0;34m()\u001b[0m\n",
            "\u001b[0;32mpandas/_libs/hashtable_class_helper.pxi\u001b[0m in \u001b[0;36mpandas._libs.hashtable.PyObjectHashTable.get_item\u001b[0;34m()\u001b[0m\n",
            "\u001b[0;31mKeyError\u001b[0m: (3, 5)",
            "\nThe above exception was the direct cause of the following exception:\n",
            "\u001b[0;31mKeyError\u001b[0m                                  Traceback (most recent call last)",
            "\u001b[0;32m/tmp/ipython-input-28-3313490272.py\u001b[0m in \u001b[0;36m<cell line: 0>\u001b[0;34m()\u001b[0m\n\u001b[0;32m----> 1\u001b[0;31m \u001b[0mdf\u001b[0m\u001b[0;34m[\u001b[0m\u001b[0;36m3\u001b[0m\u001b[0;34m,\u001b[0m\u001b[0;36m5\u001b[0m\u001b[0;34m]\u001b[0m \u001b[0;31m# Accessing through dataframe\u001b[0m\u001b[0;34m\u001b[0m\u001b[0;34m\u001b[0m\u001b[0m\n\u001b[0m",
            "\u001b[0;32m/usr/local/lib/python3.11/dist-packages/pandas/core/frame.py\u001b[0m in \u001b[0;36m__getitem__\u001b[0;34m(self, key)\u001b[0m\n\u001b[1;32m   4100\u001b[0m             \u001b[0;32mif\u001b[0m \u001b[0mself\u001b[0m\u001b[0;34m.\u001b[0m\u001b[0mcolumns\u001b[0m\u001b[0;34m.\u001b[0m\u001b[0mnlevels\u001b[0m \u001b[0;34m>\u001b[0m \u001b[0;36m1\u001b[0m\u001b[0;34m:\u001b[0m\u001b[0;34m\u001b[0m\u001b[0;34m\u001b[0m\u001b[0m\n\u001b[1;32m   4101\u001b[0m                 \u001b[0;32mreturn\u001b[0m \u001b[0mself\u001b[0m\u001b[0;34m.\u001b[0m\u001b[0m_getitem_multilevel\u001b[0m\u001b[0;34m(\u001b[0m\u001b[0mkey\u001b[0m\u001b[0;34m)\u001b[0m\u001b[0;34m\u001b[0m\u001b[0;34m\u001b[0m\u001b[0m\n\u001b[0;32m-> 4102\u001b[0;31m             \u001b[0mindexer\u001b[0m \u001b[0;34m=\u001b[0m \u001b[0mself\u001b[0m\u001b[0;34m.\u001b[0m\u001b[0mcolumns\u001b[0m\u001b[0;34m.\u001b[0m\u001b[0mget_loc\u001b[0m\u001b[0;34m(\u001b[0m\u001b[0mkey\u001b[0m\u001b[0;34m)\u001b[0m\u001b[0;34m\u001b[0m\u001b[0;34m\u001b[0m\u001b[0m\n\u001b[0m\u001b[1;32m   4103\u001b[0m             \u001b[0;32mif\u001b[0m \u001b[0mis_integer\u001b[0m\u001b[0;34m(\u001b[0m\u001b[0mindexer\u001b[0m\u001b[0;34m)\u001b[0m\u001b[0;34m:\u001b[0m\u001b[0;34m\u001b[0m\u001b[0;34m\u001b[0m\u001b[0m\n\u001b[1;32m   4104\u001b[0m                 \u001b[0mindexer\u001b[0m \u001b[0;34m=\u001b[0m \u001b[0;34m[\u001b[0m\u001b[0mindexer\u001b[0m\u001b[0;34m]\u001b[0m\u001b[0;34m\u001b[0m\u001b[0;34m\u001b[0m\u001b[0m\n",
            "\u001b[0;32m/usr/local/lib/python3.11/dist-packages/pandas/core/indexes/base.py\u001b[0m in \u001b[0;36mget_loc\u001b[0;34m(self, key)\u001b[0m\n\u001b[1;32m   3810\u001b[0m             ):\n\u001b[1;32m   3811\u001b[0m                 \u001b[0;32mraise\u001b[0m \u001b[0mInvalidIndexError\u001b[0m\u001b[0;34m(\u001b[0m\u001b[0mkey\u001b[0m\u001b[0;34m)\u001b[0m\u001b[0;34m\u001b[0m\u001b[0;34m\u001b[0m\u001b[0m\n\u001b[0;32m-> 3812\u001b[0;31m             \u001b[0;32mraise\u001b[0m \u001b[0mKeyError\u001b[0m\u001b[0;34m(\u001b[0m\u001b[0mkey\u001b[0m\u001b[0;34m)\u001b[0m \u001b[0;32mfrom\u001b[0m \u001b[0merr\u001b[0m\u001b[0;34m\u001b[0m\u001b[0;34m\u001b[0m\u001b[0m\n\u001b[0m\u001b[1;32m   3813\u001b[0m         \u001b[0;32mexcept\u001b[0m \u001b[0mTypeError\u001b[0m\u001b[0;34m:\u001b[0m\u001b[0;34m\u001b[0m\u001b[0;34m\u001b[0m\u001b[0m\n\u001b[1;32m   3814\u001b[0m             \u001b[0;31m# If we have a listlike key, _check_indexing_error will raise\u001b[0m\u001b[0;34m\u001b[0m\u001b[0;34m\u001b[0m\u001b[0m\n",
            "\u001b[0;31mKeyError\u001b[0m: (3, 5)"
          ]
        }
      ]
    },
    {
      "cell_type": "code",
      "source": [
        "print(df[3:5])  # Right Syntax"
      ],
      "metadata": {
        "colab": {
          "base_uri": "https://localhost:8080/"
        },
        "id": "gj6gugqmt2I9",
        "outputId": "782017a6-3dd4-4e58-bb4b-796388ff05b5"
      },
      "execution_count": 29,
      "outputs": [
        {
          "output_type": "stream",
          "name": "stdout",
          "text": [
            "   NAME  EMPID  SALARY Month  Stipend  NEW SALARY\n",
            "3   STU      4   10000   Jan     1000       11000\n",
            "4  DSDS      5   10000   Jan     1000       11000\n"
          ]
        }
      ]
    },
    {
      "cell_type": "code",
      "source": [
        "print(df)"
      ],
      "metadata": {
        "colab": {
          "base_uri": "https://localhost:8080/"
        },
        "id": "6SAp7WMDwoPK",
        "outputId": "7c814b02-3728-4416-a430-b9f5659b9381"
      },
      "execution_count": 32,
      "outputs": [
        {
          "output_type": "stream",
          "name": "stdout",
          "text": [
            "     NAME  EMPID  SALARY Month  Stipend  NEW SALARY\n",
            "0     ABC      1   10000   Jan     1000       11000\n",
            "1     XYZ      2   10000   Jan     1000       11000\n",
            "2     PQR      3   10000   Jan     1000       11000\n",
            "3     STU      4   10000   Jan     1000       11000\n",
            "4    DSDS      5   10000   Jan     1000       11000\n",
            "5    CVSD      6   10000   Jan     1000       11000\n",
            "6    DCSD      7   10000   Jan     1000       11000\n",
            "7     DCX      8   10000   Jan     1000       11000\n",
            "8   DSCSD      9   10000   Jan     1000       11000\n",
            "9   SDCXC     10   10000   Jan     1000       11000\n",
            "10    C X     11   10000   Jan     1000       11000\n",
            "11    SFS     12   10000   Jan     1000       11000\n",
            "12     GD     13   10000   Jan     1000       11000\n",
            "13    GDX     14   10000   Jan     1000       11000\n",
            "14     SG     15   10000   Jan     1000       11000\n",
            "15      F     16   10000   Jan     1000       11000\n",
            "16  hskjh     17   10000   Jan     1000       11000\n"
          ]
        }
      ]
    },
    {
      "cell_type": "code",
      "source": [
        "new_df = df[df.EMPID > 5]\n",
        "print(new_df)\n",
        "print(\"New Length is: \",len(new_df))"
      ],
      "metadata": {
        "colab": {
          "base_uri": "https://localhost:8080/"
        },
        "id": "Otl1wczjxbDN",
        "outputId": "becd6ebd-ca76-48a2-e4e0-b160be05c4dc"
      },
      "execution_count": 35,
      "outputs": [
        {
          "output_type": "stream",
          "name": "stdout",
          "text": [
            "     NAME  EMPID  SALARY Month  Stipend  NEW SALARY\n",
            "5    CVSD      6   10000   Jan     1000       11000\n",
            "6    DCSD      7   10000   Jan     1000       11000\n",
            "7     DCX      8   10000   Jan     1000       11000\n",
            "8   DSCSD      9   10000   Jan     1000       11000\n",
            "9   SDCXC     10   10000   Jan     1000       11000\n",
            "10    C X     11   10000   Jan     1000       11000\n",
            "11    SFS     12   10000   Jan     1000       11000\n",
            "12     GD     13   10000   Jan     1000       11000\n",
            "13    GDX     14   10000   Jan     1000       11000\n",
            "14     SG     15   10000   Jan     1000       11000\n",
            "15      F     16   10000   Jan     1000       11000\n",
            "16  hskjh     17   10000   Jan     1000       11000\n",
            "New Length is:  12\n"
          ]
        }
      ]
    },
    {
      "cell_type": "code",
      "source": [
        "# Using the fillna we can fill the null values with it\n",
        "df['SALARY'].fillna(10) # So null values which are present in the salary coloum fill with 10"
      ],
      "metadata": {
        "colab": {
          "base_uri": "https://localhost:8080/",
          "height": 617
        },
        "id": "dz7SmqU5ySO5",
        "outputId": "d956cf7d-928a-4f73-b799-30d67ca0744b"
      },
      "execution_count": 37,
      "outputs": [
        {
          "output_type": "execute_result",
          "data": {
            "text/plain": [
              "0     10000\n",
              "1     10000\n",
              "2     10000\n",
              "3     10000\n",
              "4     10000\n",
              "5     10000\n",
              "6     10000\n",
              "7     10000\n",
              "8     10000\n",
              "9     10000\n",
              "10    10000\n",
              "11    10000\n",
              "12    10000\n",
              "13    10000\n",
              "14    10000\n",
              "15    10000\n",
              "16    10000\n",
              "Name: SALARY, dtype: int64"
            ],
            "text/html": [
              "<div>\n",
              "<style scoped>\n",
              "    .dataframe tbody tr th:only-of-type {\n",
              "        vertical-align: middle;\n",
              "    }\n",
              "\n",
              "    .dataframe tbody tr th {\n",
              "        vertical-align: top;\n",
              "    }\n",
              "\n",
              "    .dataframe thead th {\n",
              "        text-align: right;\n",
              "    }\n",
              "</style>\n",
              "<table border=\"1\" class=\"dataframe\">\n",
              "  <thead>\n",
              "    <tr style=\"text-align: right;\">\n",
              "      <th></th>\n",
              "      <th>SALARY</th>\n",
              "    </tr>\n",
              "  </thead>\n",
              "  <tbody>\n",
              "    <tr>\n",
              "      <th>0</th>\n",
              "      <td>10000</td>\n",
              "    </tr>\n",
              "    <tr>\n",
              "      <th>1</th>\n",
              "      <td>10000</td>\n",
              "    </tr>\n",
              "    <tr>\n",
              "      <th>2</th>\n",
              "      <td>10000</td>\n",
              "    </tr>\n",
              "    <tr>\n",
              "      <th>3</th>\n",
              "      <td>10000</td>\n",
              "    </tr>\n",
              "    <tr>\n",
              "      <th>4</th>\n",
              "      <td>10000</td>\n",
              "    </tr>\n",
              "    <tr>\n",
              "      <th>5</th>\n",
              "      <td>10000</td>\n",
              "    </tr>\n",
              "    <tr>\n",
              "      <th>6</th>\n",
              "      <td>10000</td>\n",
              "    </tr>\n",
              "    <tr>\n",
              "      <th>7</th>\n",
              "      <td>10000</td>\n",
              "    </tr>\n",
              "    <tr>\n",
              "      <th>8</th>\n",
              "      <td>10000</td>\n",
              "    </tr>\n",
              "    <tr>\n",
              "      <th>9</th>\n",
              "      <td>10000</td>\n",
              "    </tr>\n",
              "    <tr>\n",
              "      <th>10</th>\n",
              "      <td>10000</td>\n",
              "    </tr>\n",
              "    <tr>\n",
              "      <th>11</th>\n",
              "      <td>10000</td>\n",
              "    </tr>\n",
              "    <tr>\n",
              "      <th>12</th>\n",
              "      <td>10000</td>\n",
              "    </tr>\n",
              "    <tr>\n",
              "      <th>13</th>\n",
              "      <td>10000</td>\n",
              "    </tr>\n",
              "    <tr>\n",
              "      <th>14</th>\n",
              "      <td>10000</td>\n",
              "    </tr>\n",
              "    <tr>\n",
              "      <th>15</th>\n",
              "      <td>10000</td>\n",
              "    </tr>\n",
              "    <tr>\n",
              "      <th>16</th>\n",
              "      <td>10000</td>\n",
              "    </tr>\n",
              "  </tbody>\n",
              "</table>\n",
              "</div><br><label><b>dtype:</b> int64</label>"
            ]
          },
          "metadata": {},
          "execution_count": 37
        }
      ]
    },
    {
      "cell_type": "code",
      "source": [
        "# To remove some coloums from the dataframe than use .pop or .drop methods in the pandas\n",
        "print(df2.head())"
      ],
      "metadata": {
        "colab": {
          "base_uri": "https://localhost:8080/"
        },
        "id": "umhf5rTAzLeK",
        "outputId": "4b245d11-0f56-4e33-cd69-bcc6bcc805ae"
      },
      "execution_count": 43,
      "outputs": [
        {
          "output_type": "stream",
          "name": "stdout",
          "text": [
            "0    Jan\n",
            "1    Jan\n",
            "2    Jan\n",
            "3    Jan\n",
            "4    Jan\n",
            "Name: Month, dtype: object\n"
          ]
        }
      ]
    },
    {
      "cell_type": "code",
      "source": [
        "print(df.head(2))"
      ],
      "metadata": {
        "colab": {
          "base_uri": "https://localhost:8080/"
        },
        "id": "8nRgVYdB0NOR",
        "outputId": "28075a24-dc7f-4e19-b17e-dbdf866acdd2"
      },
      "execution_count": 44,
      "outputs": [
        {
          "output_type": "stream",
          "name": "stdout",
          "text": [
            "  NAME  EMPID  SALARY  Stipend\n",
            "0  ABC      1   10000     1000\n",
            "1  XYZ      2   10000     1000\n"
          ]
        }
      ]
    },
    {
      "cell_type": "code",
      "source": [
        "# To apply some mathematical operation on the coloum than we have to use .apply method\n",
        "print(df['SALARY'].apply(lambda x: x*2))\n",
        "print(df['SALARY'].apply(np.sqrt))"
      ],
      "metadata": {
        "colab": {
          "base_uri": "https://localhost:8080/"
        },
        "id": "F8lehDgI0RC4",
        "outputId": "4acebbd9-eb83-407a-a88d-5cbc0d66fe09"
      },
      "execution_count": 46,
      "outputs": [
        {
          "output_type": "stream",
          "name": "stdout",
          "text": [
            "0     20000\n",
            "1     20000\n",
            "2     20000\n",
            "3     20000\n",
            "4     20000\n",
            "5     20000\n",
            "6     20000\n",
            "7     20000\n",
            "8     20000\n",
            "9     20000\n",
            "10    20000\n",
            "11    20000\n",
            "12    20000\n",
            "13    20000\n",
            "14    20000\n",
            "15    20000\n",
            "16    20000\n",
            "Name: SALARY, dtype: int64\n",
            "0     100.0\n",
            "1     100.0\n",
            "2     100.0\n",
            "3     100.0\n",
            "4     100.0\n",
            "5     100.0\n",
            "6     100.0\n",
            "7     100.0\n",
            "8     100.0\n",
            "9     100.0\n",
            "10    100.0\n",
            "11    100.0\n",
            "12    100.0\n",
            "13    100.0\n",
            "14    100.0\n",
            "15    100.0\n",
            "16    100.0\n",
            "Name: SALARY, dtype: float64\n"
          ]
        }
      ]
    }
  ]
}