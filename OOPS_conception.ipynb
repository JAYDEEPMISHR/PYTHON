{
  "nbformat": 4,
  "nbformat_minor": 0,
  "metadata": {
    "colab": {
      "provenance": [],
      "authorship_tag": "ABX9TyNSVye1fhj/OqgkSNs/2eLy",
      "include_colab_link": true
    },
    "kernelspec": {
      "name": "python3",
      "display_name": "Python 3"
    },
    "language_info": {
      "name": "python"
    }
  },
  "cells": [
    {
      "cell_type": "markdown",
      "metadata": {
        "id": "view-in-github",
        "colab_type": "text"
      },
      "source": [
        "<a href=\"https://colab.research.google.com/github/JAYDEEPMISHR/PYTHON/blob/main/OOPS_conception.ipynb\" target=\"_parent\"><img src=\"https://colab.research.google.com/assets/colab-badge.svg\" alt=\"Open In Colab\"/></a>"
      ]
    },
    {
      "cell_type": "markdown",
      "source": [
        "OOPS concept\n",
        "\n",
        "1. Class\n",
        "2. Object\n",
        "3. Inheritance\n",
        "4. Polimorphism\n",
        "5. Encapsulation"
      ],
      "metadata": {
        "id": "EfHYaG4c3Big"
      }
    },
    {
      "cell_type": "markdown",
      "source": [
        "# 1. Class and Object:\n",
        "\n",
        "class is defined by 'class' keyword in the python."
      ],
      "metadata": {
        "id": "TR3V7O6H3L35"
      }
    },
    {
      "cell_type": "code",
      "execution_count": 3,
      "metadata": {
        "colab": {
          "base_uri": "https://localhost:8080/"
        },
        "id": "c5SBxGKV1PAq",
        "outputId": "391ef002-2c22-4c57-e9d9-828246856b1d"
      },
      "outputs": [
        {
          "output_type": "stream",
          "name": "stdout",
          "text": [
            "Length =  10  and Breagth =  5\n"
          ]
        }
      ],
      "source": [
        "class Rectangle:\n",
        "  # __init__ is a construtor.\n",
        "  def __init__(self):\n",
        "    self.length = 10\n",
        "    self.breagth = 5\n",
        "\n",
        "# Make an object of this class to use this class\n",
        "\n",
        "rect_obj = Rectangle() # Here rect_obj is an object of that class\n",
        "print(\"Length = \", rect_obj.length ,\" and Breagth = \", rect_obj.breagth)"
      ]
    },
    {
      "cell_type": "markdown",
      "source": [
        "# Parameterised constructor : Dynamically assign the value during object creation"
      ],
      "metadata": {
        "id": "52L26ruk5kBf"
      }
    },
    {
      "cell_type": "code",
      "source": [
        "class Rectangle:\n",
        "  # __init__ is a construtor.\n",
        "  def __init__(self,length,breadgth):\n",
        "    self.length = length\n",
        "    self.breagth = breadgth\n",
        "\n",
        "rect_obj = Rectangle(10,5) # Here rect_obj is an object of that class\n",
        "print(\"Length = \", rect_obj.length ,\" and Breagth = \", rect_obj.breagth)"
      ],
      "metadata": {
        "colab": {
          "base_uri": "https://localhost:8080/"
        },
        "id": "wM1zyRT75iRC",
        "outputId": "c32546a8-a934-4bfe-d270-c811e5baabb3"
      },
      "execution_count": 4,
      "outputs": [
        {
          "output_type": "stream",
          "name": "stdout",
          "text": [
            "Length =  10  and Breagth =  5\n"
          ]
        }
      ]
    },
    {
      "cell_type": "markdown",
      "source": [
        "# Adding a method to class"
      ],
      "metadata": {
        "id": "bmejLS953AYF"
      }
    },
    {
      "cell_type": "code",
      "source": [
        "class Rectangle:\n",
        "  # __init__ is a construtor.\n",
        "  def __init__(self,length,breadgth):\n",
        "    self.length = length\n",
        "    self.breagth = breadgth\n",
        "\n",
        "  def area(self):\n",
        "    return self.length * self.breagth\n",
        "\n",
        "  def perimeter(self):\n",
        "    return 2 * (self.length + self.breagth)\n",
        "\n",
        "rect_obj = Rectangle(10,5)\n",
        "print(\"Area = \", rect_obj.area())\n",
        "print(\"Perimeter = \", rect_obj.perimeter())\n"
      ],
      "metadata": {
        "colab": {
          "base_uri": "https://localhost:8080/"
        },
        "id": "f-V4tJuL6-Ni",
        "outputId": "54912d6e-d5c6-4115-9d07-d189ef1a2d69"
      },
      "execution_count": 5,
      "outputs": [
        {
          "output_type": "stream",
          "name": "stdout",
          "text": [
            "Area =  50\n",
            "Perimeter =  30\n"
          ]
        }
      ]
    },
    {
      "cell_type": "markdown",
      "source": [
        "# 3. Inheritance\n",
        "There are types of Inheritance\n",
        "\n",
        "**Single Inheritance**: A child class inherits from one parent class.\n",
        "\n",
        "**Multiple Inheritance**: A child class inherits from more than one parent class.\n",
        "\n",
        "**Multilevel Inheritance:** A class is derived from a class which is also derived from another class.\n",
        "\n",
        "**Hierarchical Inheritance:** Multiple classes inherit from a single parent class.\n",
        "\n",
        "**Hybrid Inheritance:** A combination of more than one type of inheritance.\n"
      ],
      "metadata": {
        "id": "CAGQHWIX8nUA"
      }
    },
    {
      "cell_type": "code",
      "source": [
        "# 1. Single Inheritance\n",
        "class Person:\n",
        "    def __init__(self, name):\n",
        "        self.name = name\n",
        "\n",
        "class Employee(Person):  # Employee inherits from Person\n",
        "    def __init__(self, name, salary):\n",
        "        super().__init__(name)\n",
        "        self.salary = salary\n",
        "\n",
        "# Single Inheritance\n",
        "emp = Employee(\"John\", 40000)\n",
        "print(emp.name, emp.salary)\n",
        "\n",
        "# 2. Multiple Inheritance\n",
        "class Job:\n",
        "    def __init__(self, salary):\n",
        "        self.salary = salary\n",
        "\n",
        "class EmployeePersonJob(Employee, Job):  # Inherits from both Employee and Job\n",
        "    def __init__(self, name, salary):\n",
        "        Employee.__init__(self, name, salary)  # Initialize Employee\n",
        "        Job.__init__(self, salary)            # Initialize Job\n",
        "\n",
        "# Multiple Inheritance\n",
        "emp2 = EmployeePersonJob(\"Alice\", 50000)\n",
        "print(emp2.name, emp2.salary)\n",
        "\n",
        "\n",
        "# 3. Multilevel Inheritance\n",
        "class Manager(EmployeePersonJob):  # Inherits from EmployeePersonJob\n",
        "    def __init__(self, name, salary, department):\n",
        "        EmployeePersonJob.__init__(self, name, salary)  # Explicitly initialize EmployeePersonJob\n",
        "        self.department = department\n",
        "\n",
        "# Multilevel Inheritance\n",
        "mgr = Manager(\"Bob\", 60000, \"HR\")\n",
        "print(mgr.name, mgr.salary, mgr.department)\n",
        "\n",
        "# 4. Hierarchical Inheritance\n",
        "class AssistantManager(EmployeePersonJob):  # Inherits from EmployeePersonJob\n",
        "    def __init__(self, name, salary, team_size):\n",
        "        EmployeePersonJob.__init__(self, name, salary)  # Explicitly initialize EmployeePersonJob\n",
        "        self.team_size = team_size\n",
        "\n",
        "# Hierarchical Inheritance\n",
        "asst_mgr = AssistantManager(\"Charlie\", 45000, 10)\n",
        "print(asst_mgr.name, asst_mgr.salary, asst_mgr.team_size)\n",
        "\n",
        "# 5. Hybrid Inheritance (Multiple + Multilevel)\n",
        "class SeniorManager(Manager, AssistantManager):  # Inherits from both Manager and AssistantManager\n",
        "    def __init__(self, name, salary, department, team_size):\n",
        "        Manager.__init__(self, name, salary, department)        # Initialize Manager\n",
        "        AssistantManager.__init__(self, name, salary, team_size)  # Initialize AssistantManager\n",
        "\n",
        "# Hybrid Inheritance\n",
        "sen_mgr = SeniorManager(\"David\", 70000, \"Finance\", 20)\n",
        "print(sen_mgr.name, sen_mgr.salary, sen_mgr.department, sen_mgr.team_size)"
      ],
      "metadata": {
        "colab": {
          "base_uri": "https://localhost:8080/"
        },
        "id": "8LnfQDdK9uqA",
        "outputId": "da5ce046-4075-43dd-aff1-aac24cf83ac9"
      },
      "execution_count": 6,
      "outputs": [
        {
          "output_type": "stream",
          "name": "stdout",
          "text": [
            "John 40000\n",
            "Alice 50000\n",
            "Bob 60000 HR\n",
            "Charlie 45000 10\n",
            "David 70000 Finance 20\n"
          ]
        }
      ]
    }
  ]
}