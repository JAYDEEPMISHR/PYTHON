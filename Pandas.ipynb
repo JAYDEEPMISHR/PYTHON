{
  "nbformat": 4,
  "nbformat_minor": 0,
  "metadata": {
    "colab": {
      "provenance": [],
      "authorship_tag": "ABX9TyOa/Cn0tfXipgdFTM8yYV0M",
      "include_colab_link": true
    },
    "kernelspec": {
      "name": "python3",
      "display_name": "Python 3"
    },
    "language_info": {
      "name": "python"
    }
  },
  "cells": [
    {
      "cell_type": "markdown",
      "metadata": {
        "id": "view-in-github",
        "colab_type": "text"
      },
      "source": [
        "<a href=\"https://colab.research.google.com/github/JAYDEEPMISHR/PYTHON/blob/main/Pandas.ipynb\" target=\"_parent\"><img src=\"https://colab.research.google.com/assets/colab-badge.svg\" alt=\"Open In Colab\"/></a>"
      ]
    },
    {
      "cell_type": "code",
      "execution_count": 1,
      "metadata": {
        "id": "XHTdsSHkiu0_"
      },
      "outputs": [],
      "source": [
        "import pandas as pd\n",
        "import numpy as np"
      ]
    },
    {
      "cell_type": "code",
      "source": [
        "df = pd.read_excel('SalaryData.xlsx')\n",
        "print(df)"
      ],
      "metadata": {
        "colab": {
          "base_uri": "https://localhost:8080/"
        },
        "id": "FQU7BRC_jKHD",
        "outputId": "bdf68cf1-37bf-4154-ce45-222dd8c26338"
      },
      "execution_count": 2,
      "outputs": [
        {
          "output_type": "stream",
          "name": "stdout",
          "text": [
            "     NAME  EMPID  SALARY Month\n",
            "0     ABC      1   10000   Jan\n",
            "1     XYZ      2   10000   Jan\n",
            "2     PQR      3   10000   Jan\n",
            "3     STU      4   10000   Jan\n",
            "4    DSDS      5   10000   Jan\n",
            "5    CVSD      6   10000   Jan\n",
            "6    DCSD      7   10000   Jan\n",
            "7     DCX      8   10000   Jan\n",
            "8   DSCSD      9   10000   Jan\n",
            "9   SDCXC     10   10000   Jan\n",
            "10    C X     11   10000   Jan\n",
            "11    SFS     12   10000   Jan\n",
            "12     GD     13   10000   Jan\n",
            "13    GDX     14   10000   Jan\n",
            "14     SG     15   10000   Jan\n",
            "15      F     16   10000   Jan\n",
            "16  hskjh     17   10000   Jan\n"
          ]
        }
      ]
    },
    {
      "cell_type": "code",
      "source": [
        "print(df.head()) # Gives the first b default Five record from the database"
      ],
      "metadata": {
        "colab": {
          "base_uri": "https://localhost:8080/"
        },
        "id": "EuwSyEFBjZtT",
        "outputId": "3cfe1af5-1718-43bc-aa30-216ef1fdb005"
      },
      "execution_count": 3,
      "outputs": [
        {
          "output_type": "stream",
          "name": "stdout",
          "text": [
            "   NAME  EMPID  SALARY Month\n",
            "0   ABC      1   10000   Jan\n",
            "1   XYZ      2   10000   Jan\n",
            "2   PQR      3   10000   Jan\n",
            "3   STU      4   10000   Jan\n",
            "4  DSDS      5   10000   Jan\n"
          ]
        }
      ]
    },
    {
      "cell_type": "code",
      "source": [
        "print(df.head(7)) # If you want to see 7 records from the data"
      ],
      "metadata": {
        "colab": {
          "base_uri": "https://localhost:8080/"
        },
        "id": "aOVRzNcbjnXO",
        "outputId": "442a63e5-1ada-4612-f963-9af20263845a"
      },
      "execution_count": 4,
      "outputs": [
        {
          "output_type": "stream",
          "name": "stdout",
          "text": [
            "   NAME  EMPID  SALARY Month\n",
            "0   ABC      1   10000   Jan\n",
            "1   XYZ      2   10000   Jan\n",
            "2   PQR      3   10000   Jan\n",
            "3   STU      4   10000   Jan\n",
            "4  DSDS      5   10000   Jan\n",
            "5  CVSD      6   10000   Jan\n",
            "6  DCSD      7   10000   Jan\n"
          ]
        }
      ]
    },
    {
      "cell_type": "code",
      "source": [
        "print(df.tail()) # Gives the last five record (bydefault) from the database"
      ],
      "metadata": {
        "colab": {
          "base_uri": "https://localhost:8080/"
        },
        "id": "e7GamDxPjwS1",
        "outputId": "793c94f0-b061-40f1-fc67-889b7f8cb117"
      },
      "execution_count": 5,
      "outputs": [
        {
          "output_type": "stream",
          "name": "stdout",
          "text": [
            "     NAME  EMPID  SALARY Month\n",
            "12     GD     13   10000   Jan\n",
            "13    GDX     14   10000   Jan\n",
            "14     SG     15   10000   Jan\n",
            "15      F     16   10000   Jan\n",
            "16  hskjh     17   10000   Jan\n"
          ]
        }
      ]
    },
    {
      "cell_type": "code",
      "source": [
        "print(df.tail(1))"
      ],
      "metadata": {
        "colab": {
          "base_uri": "https://localhost:8080/"
        },
        "id": "XvdnqOBBj4QL",
        "outputId": "da653648-11cb-4d44-d052-9ce697680613"
      },
      "execution_count": 7,
      "outputs": [
        {
          "output_type": "stream",
          "name": "stdout",
          "text": [
            "     NAME  EMPID  SALARY Month\n",
            "16  hskjh     17   10000   Jan\n"
          ]
        }
      ]
    },
    {
      "cell_type": "code",
      "source": [
        "print(df.info()) # If you want to get the information about the database"
      ],
      "metadata": {
        "colab": {
          "base_uri": "https://localhost:8080/"
        },
        "id": "siLtHF73kA_S",
        "outputId": "96d5565e-187f-4240-88cb-d8c22e288c86"
      },
      "execution_count": 8,
      "outputs": [
        {
          "output_type": "stream",
          "name": "stdout",
          "text": [
            "<class 'pandas.core.frame.DataFrame'>\n",
            "RangeIndex: 17 entries, 0 to 16\n",
            "Data columns (total 4 columns):\n",
            " #   Column  Non-Null Count  Dtype \n",
            "---  ------  --------------  ----- \n",
            " 0   NAME    17 non-null     object\n",
            " 1   EMPID   17 non-null     int64 \n",
            " 2   SALARY  17 non-null     int64 \n",
            " 3   Month   17 non-null     object\n",
            "dtypes: int64(2), object(2)\n",
            "memory usage: 676.0+ bytes\n",
            "None\n"
          ]
        }
      ]
    },
    {
      "cell_type": "code",
      "source": [
        "# Describe the statistical information of the numerical coloums (Gives only numerical coloums)\n",
        "print(df.describe())"
      ],
      "metadata": {
        "colab": {
          "base_uri": "https://localhost:8080/"
        },
        "id": "lf_bZug9koL2",
        "outputId": "101a55a0-f210-4e23-fb0f-6b225babc990"
      },
      "execution_count": 9,
      "outputs": [
        {
          "output_type": "stream",
          "name": "stdout",
          "text": [
            "           EMPID   SALARY\n",
            "count  17.000000     17.0\n",
            "mean    9.000000  10000.0\n",
            "std     5.049752      0.0\n",
            "min     1.000000  10000.0\n",
            "25%     5.000000  10000.0\n",
            "50%     9.000000  10000.0\n",
            "75%    13.000000  10000.0\n",
            "max    17.000000  10000.0\n"
          ]
        }
      ]
    },
    {
      "cell_type": "code",
      "source": [
        "# To get all the coloums\n",
        "print(df.columns)"
      ],
      "metadata": {
        "colab": {
          "base_uri": "https://localhost:8080/"
        },
        "id": "sztLLlvYl-X5",
        "outputId": "d6948be6-d7bd-4a3b-e876-f5851df13a3a"
      },
      "execution_count": 12,
      "outputs": [
        {
          "output_type": "stream",
          "name": "stdout",
          "text": [
            "Index(['NAME', 'EMPID', 'SALARY', 'Month'], dtype='object')\n"
          ]
        }
      ]
    },
    {
      "cell_type": "code",
      "source": [
        "# Do the transpose of the dataframe\n",
        "print(df.T)"
      ],
      "metadata": {
        "colab": {
          "base_uri": "https://localhost:8080/"
        },
        "id": "dr4Pdf1CmVC7",
        "outputId": "2fe557f1-2a44-4c09-d7c6-f1b41f2e3248"
      },
      "execution_count": 13,
      "outputs": [
        {
          "output_type": "stream",
          "name": "stdout",
          "text": [
            "           0      1      2      3      4      5      6      7      8      9   \\\n",
            "NAME      ABC    XYZ    PQR    STU   DSDS   CVSD   DCSD    DCX  DSCSD  SDCXC   \n",
            "EMPID       1      2      3      4      5      6      7      8      9     10   \n",
            "SALARY  10000  10000  10000  10000  10000  10000  10000  10000  10000  10000   \n",
            "Month     Jan    Jan    Jan    Jan    Jan    Jan    Jan    Jan    Jan    Jan   \n",
            "\n",
            "           10     11     12     13     14     15     16  \n",
            "NAME      C X    SFS     GD    GDX     SG      F  hskjh  \n",
            "EMPID      11     12     13     14     15     16     17  \n",
            "SALARY  10000  10000  10000  10000  10000  10000  10000  \n",
            "Month     Jan    Jan    Jan    Jan    Jan    Jan    Jan  \n"
          ]
        }
      ]
    }
  ]
}